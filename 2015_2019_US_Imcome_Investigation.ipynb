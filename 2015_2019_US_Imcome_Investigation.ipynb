{
  "nbformat": 4,
  "nbformat_minor": 0,
  "metadata": {
    "colab": {
      "name": "2015-2019-US-Imcome-Investigation.ipynb",
      "provenance": [],
      "authorship_tag": "ABX9TyNBNBGurdqp1YVknK7BC5z+",
      "include_colab_link": true
    },
    "kernelspec": {
      "name": "python3",
      "display_name": "Python 3"
    }
  },
  "cells": [
    {
      "cell_type": "markdown",
      "metadata": {
        "id": "view-in-github",
        "colab_type": "text"
      },
      "source": [
        "<a href=\"https://colab.research.google.com/github/zpren1998/2015-2019-US-Imcome-Investigation/blob/main/2015_2019_US_Imcome_Investigation.ipynb\" target=\"_parent\"><img src=\"https://colab.research.google.com/assets/colab-badge.svg\" alt=\"Open In Colab\"/></a>"
      ]
    },
    {
      "cell_type": "markdown",
      "metadata": {
        "id": "Cyr7DsmRFT9s"
      },
      "source": [
        "# 2015-2019 US Income Investigation\n",
        "In this project, US income from 2015 to 2019 will be investigated. "
      ]
    },
    {
      "cell_type": "markdown",
      "metadata": {
        "id": "WP6Ib427FjVY"
      },
      "source": [
        "# Import libraries"
      ]
    },
    {
      "cell_type": "code",
      "metadata": {
        "id": "Qn-azz1Nvyfp"
      },
      "source": [
        "# for data analysis\n",
        "import pandas as pd\n",
        "import numpy as np\n",
        "\n",
        "# to help export files \n",
        "from google.colab import files\n",
        "\n",
        "# for visualization\n",
        "import plotly.express as px"
      ],
      "execution_count": 1,
      "outputs": []
    },
    {
      "cell_type": "markdown",
      "metadata": {
        "id": "6JXn_JqoGhez"
      },
      "source": [
        "# Import data"
      ]
    },
    {
      "cell_type": "code",
      "metadata": {
        "id": "7tkEBLcuGZLs"
      },
      "source": [
        "# Import data\n",
        "\n",
        "# 2015 income\n",
        "df_15_income = pd.read_csv(\"https://raw.githubusercontent.com/zpren1998/2015-2019-US-Imcome-Investigation/main/INCOME%20IN%20THE%20PAST%2012%20MONTHS%20(IN%202015%20INFLATION-ADJUSTED%20DOLLARS).csv\")\n",
        "# 2016 income\n",
        "df_16_income = pd.read_csv(\"https://raw.githubusercontent.com/zpren1998/2015-2019-US-Imcome-Investigation/main/INCOME%20IN%20THE%20PAST%2012%20MONTHS%20(IN%202016%20INFLATION-ADJUSTED%20DOLLARS).csv\")\n",
        "# 2017 income\n",
        "df_17_income = pd.read_csv(\"https://raw.githubusercontent.com/zpren1998/2015-2019-US-Imcome-Investigation/main/INCOME%20IN%20THE%20PAST%2012%20MONTHS%20(IN%202017%20INFLATION-ADJUSTED%20DOLLARS).csv\")\n",
        "# 2018 income\n",
        "df_18_income = pd.read_csv(\"https://raw.githubusercontent.com/zpren1998/2015-2019-US-Imcome-Investigation/main/INCOME%20IN%20THE%20PAST%2012%20MONTHS%20(IN%202018%20INFLATION-ADJUSTED%20DOLLARS).csv\")\n",
        "# 2019 income\n",
        "df_19_income = pd.read_csv(\"https://raw.githubusercontent.com/zpren1998/2015-2019-US-Imcome-Investigation/main/INCOME%20IN%20THE%20PAST%2012%20MONTHS%20(IN%202019%20INFLATION-ADJUSTED%20DOLLARS).csv\")\n",
        "\n"
      ],
      "execution_count": 2,
      "outputs": []
    },
    {
      "cell_type": "code",
      "metadata": {
        "colab": {
          "base_uri": "https://localhost:8080/",
          "height": 306
        },
        "id": "elsSjteXfCzE",
        "outputId": "ff7eb8ba-26ce-4f9d-8ede-be7a4faa427d"
      },
      "source": [
        "# Preview data \n",
        "df_15_income.head()"
      ],
      "execution_count": 3,
      "outputs": [
        {
          "output_type": "execute_result",
          "data": {
            "text/html": [
              "<div>\n",
              "<style scoped>\n",
              "    .dataframe tbody tr th:only-of-type {\n",
              "        vertical-align: middle;\n",
              "    }\n",
              "\n",
              "    .dataframe tbody tr th {\n",
              "        vertical-align: top;\n",
              "    }\n",
              "\n",
              "    .dataframe thead th {\n",
              "        text-align: right;\n",
              "    }\n",
              "</style>\n",
              "<table border=\"1\" class=\"dataframe\">\n",
              "  <thead>\n",
              "    <tr style=\"text-align: right;\">\n",
              "      <th></th>\n",
              "      <th>Ranges</th>\n",
              "      <th>Households estimate (%)</th>\n",
              "      <th>Households margin of error</th>\n",
              "      <th>Families estimate (%)</th>\n",
              "      <th>Families margin of error</th>\n",
              "      <th>Married-couple families estimate (%)</th>\n",
              "      <th>Married-couple families margin of error</th>\n",
              "      <th>Nonfamlilies estimate (%)</th>\n",
              "      <th>Nonfamilies margin of error</th>\n",
              "    </tr>\n",
              "  </thead>\n",
              "  <tbody>\n",
              "    <tr>\n",
              "      <th>0</th>\n",
              "      <td>-10000</td>\n",
              "      <td>6.9</td>\n",
              "      <td>±0.1</td>\n",
              "      <td>4.3</td>\n",
              "      <td>±0.1</td>\n",
              "      <td>1.5</td>\n",
              "      <td>±0.1</td>\n",
              "      <td>13.0</td>\n",
              "      <td>±0.1</td>\n",
              "    </tr>\n",
              "    <tr>\n",
              "      <th>1</th>\n",
              "      <td>10000-14999</td>\n",
              "      <td>5.0</td>\n",
              "      <td>±0.1</td>\n",
              "      <td>2.9</td>\n",
              "      <td>±0.1</td>\n",
              "      <td>1.4</td>\n",
              "      <td>±0.1</td>\n",
              "      <td>9.4</td>\n",
              "      <td>±0.1</td>\n",
              "    </tr>\n",
              "    <tr>\n",
              "      <th>2</th>\n",
              "      <td>15000-24999</td>\n",
              "      <td>10.2</td>\n",
              "      <td>±0.1</td>\n",
              "      <td>7.5</td>\n",
              "      <td>±0.1</td>\n",
              "      <td>4.7</td>\n",
              "      <td>±0.1</td>\n",
              "      <td>16.2</td>\n",
              "      <td>±0.1</td>\n",
              "    </tr>\n",
              "    <tr>\n",
              "      <th>3</th>\n",
              "      <td>25000-34999</td>\n",
              "      <td>9.8</td>\n",
              "      <td>±0.1</td>\n",
              "      <td>8.5</td>\n",
              "      <td>±0.1</td>\n",
              "      <td>6.7</td>\n",
              "      <td>±0.1</td>\n",
              "      <td>12.7</td>\n",
              "      <td>±0.1</td>\n",
              "    </tr>\n",
              "    <tr>\n",
              "      <th>4</th>\n",
              "      <td>35000-49999</td>\n",
              "      <td>13.2</td>\n",
              "      <td>±0.1</td>\n",
              "      <td>12.6</td>\n",
              "      <td>±0.1</td>\n",
              "      <td>11.3</td>\n",
              "      <td>±0.1</td>\n",
              "      <td>14.5</td>\n",
              "      <td>±0.1</td>\n",
              "    </tr>\n",
              "  </tbody>\n",
              "</table>\n",
              "</div>"
            ],
            "text/plain": [
              "        Ranges  ...  Nonfamilies margin of error\n",
              "0       -10000  ...                         ±0.1\n",
              "1  10000-14999  ...                         ±0.1\n",
              "2  15000-24999  ...                         ±0.1\n",
              "3  25000-34999  ...                         ±0.1\n",
              "4  35000-49999  ...                         ±0.1\n",
              "\n",
              "[5 rows x 9 columns]"
            ]
          },
          "metadata": {
            "tags": []
          },
          "execution_count": 3
        }
      ]
    },
    {
      "cell_type": "markdown",
      "metadata": {
        "id": "X7Uz3XaWe6I-"
      },
      "source": [
        "# Merge 2015-2019 US family and nonfamily income datasets"
      ]
    },
    {
      "cell_type": "code",
      "metadata": {
        "id": "pOhTFDIQKpwk"
      },
      "source": [
        "# Merge 2015-2016 families income distribution\n",
        "df_15_16_merge = pd.merge(df_15_income[[\"Ranges\",\"Families estimate (%)\",\"Nonfamlilies estimate (%)\"]],\n",
        "               df_16_income[[\"Ranges\",\"Families estimate (%)\",\"Nonfamlilies estimate (%)\"]],\n",
        "               on=\"Ranges\",\n",
        "               how=\"left\",\n",
        "               suffixes=('_2015','_2016'))\n"
      ],
      "execution_count": 4,
      "outputs": []
    },
    {
      "cell_type": "code",
      "metadata": {
        "id": "L5rHe_dEiYBA"
      },
      "source": [
        "# Merge 2017 families income distribution to 15_16 dataset\n",
        "df_15_17_merge = pd.merge(df_15_16_merge,\n",
        "               df_17_income[[\"Ranges\",\"Families estimate (%)\",\"Nonfamlilies estimate (%)\"]],\n",
        "               on=\"Ranges\",\n",
        "               how=\"left\")"
      ],
      "execution_count": 5,
      "outputs": []
    },
    {
      "cell_type": "code",
      "metadata": {
        "id": "ChOgfybTot85"
      },
      "source": [
        "# Merge 2018 families income distribution to 15_16 dataset\n",
        "df_15_18_merge = pd.merge(df_15_17_merge,\n",
        "               df_18_income[[\"Ranges\",\"Families estimate (%)\",\"Nonfamlilies estimate (%)\"]],\n",
        "               on=\"Ranges\",\n",
        "               how=\"left\",\n",
        "               suffixes=('_2017','_2018'))"
      ],
      "execution_count": 6,
      "outputs": []
    },
    {
      "cell_type": "code",
      "metadata": {
        "id": "Q36-Lw05ox5K"
      },
      "source": [
        "# Merge 2019 families income distribution to 15_16 dataset\n",
        "df_15_19_merge = pd.merge(df_15_18_merge,\n",
        "               df_19_income[[\"Ranges\",\"Families estimate (%)\",\"Nonfamlilies estimate (%)\"]],\n",
        "               on=\"Ranges\",\n",
        "               how=\"left\")"
      ],
      "execution_count": 7,
      "outputs": []
    },
    {
      "cell_type": "code",
      "metadata": {
        "id": "gQOjnA5I04qP"
      },
      "source": [
        "# export 2015-2019 family and nonfamily income dataframe as a csv\n",
        "df_15_19_merge.to_csv(\"2015_2019_md_US_income.csv\",index=False)"
      ],
      "execution_count": 8,
      "outputs": []
    },
    {
      "cell_type": "code",
      "metadata": {
        "colab": {
          "base_uri": "https://localhost:8080/",
          "height": 17
        },
        "id": "CER0bi9U1UVO",
        "outputId": "780fea56-308d-4c6e-a4ad-a5cb1e443197"
      },
      "source": [
        "# export the file\n",
        "files.download(\"2015_2019_md_US_income.csv\")"
      ],
      "execution_count": 9,
      "outputs": [
        {
          "output_type": "display_data",
          "data": {
            "application/javascript": [
              "\n",
              "    async function download(id, filename, size) {\n",
              "      if (!google.colab.kernel.accessAllowed) {\n",
              "        return;\n",
              "      }\n",
              "      const div = document.createElement('div');\n",
              "      const label = document.createElement('label');\n",
              "      label.textContent = `Downloading \"${filename}\": `;\n",
              "      div.appendChild(label);\n",
              "      const progress = document.createElement('progress');\n",
              "      progress.max = size;\n",
              "      div.appendChild(progress);\n",
              "      document.body.appendChild(div);\n",
              "\n",
              "      const buffers = [];\n",
              "      let downloaded = 0;\n",
              "\n",
              "      const channel = await google.colab.kernel.comms.open(id);\n",
              "      // Send a message to notify the kernel that we're ready.\n",
              "      channel.send({})\n",
              "\n",
              "      for await (const message of channel.messages) {\n",
              "        // Send a message to notify the kernel that we're ready.\n",
              "        channel.send({})\n",
              "        if (message.buffers) {\n",
              "          for (const buffer of message.buffers) {\n",
              "            buffers.push(buffer);\n",
              "            downloaded += buffer.byteLength;\n",
              "            progress.value = downloaded;\n",
              "          }\n",
              "        }\n",
              "      }\n",
              "      const blob = new Blob(buffers, {type: 'application/binary'});\n",
              "      const a = document.createElement('a');\n",
              "      a.href = window.URL.createObjectURL(blob);\n",
              "      a.download = filename;\n",
              "      div.appendChild(a);\n",
              "      a.click();\n",
              "      div.remove();\n",
              "    }\n",
              "  "
            ],
            "text/plain": [
              "<IPython.core.display.Javascript object>"
            ]
          },
          "metadata": {
            "tags": []
          }
        },
        {
          "output_type": "display_data",
          "data": {
            "application/javascript": [
              "download(\"download_faae738a-847b-4f80-b41f-b0ae8e0420d6\", \"2015_2019_md_US_income.csv\", 827)"
            ],
            "text/plain": [
              "<IPython.core.display.Javascript object>"
            ]
          },
          "metadata": {
            "tags": []
          }
        }
      ]
    },
    {
      "cell_type": "markdown",
      "metadata": {
        "id": "i0GggNODvJ9U"
      },
      "source": [
        "# Build pivot table\n"
      ]
    },
    {
      "cell_type": "code",
      "metadata": {
        "id": "owOFbKiPpBGY"
      },
      "source": [
        "# Build pivot table\n",
        "df_pivot_fincome = pd.pivot_table(df_15_19_merge,\n",
        "                  index=\"Ranges\",\n",
        "                  values=[\"Families estimate (%)_2015\",\"Families estimate (%)_2016\",\"Families estimate (%)_2017\",\"Families estimate (%)_2018\",\"Families estimate (%)\"],\n",
        "                  aggfunc = np.mean).reset_index()"
      ],
      "execution_count": 10,
      "outputs": []
    },
    {
      "cell_type": "code",
      "metadata": {
        "colab": {
          "base_uri": "https://localhost:8080/",
          "height": 355
        },
        "id": "QR6Wb0uPpE4J",
        "outputId": "7201f203-330d-409a-c74a-1b766a9d29d4"
      },
      "source": [
        "# Rename the column\n",
        "df_pivot_fincome.rename(columns={\"Families estimate (%)\":\"Families estimate (%)_2019\"})"
      ],
      "execution_count": 11,
      "outputs": [
        {
          "output_type": "execute_result",
          "data": {
            "text/html": [
              "<div>\n",
              "<style scoped>\n",
              "    .dataframe tbody tr th:only-of-type {\n",
              "        vertical-align: middle;\n",
              "    }\n",
              "\n",
              "    .dataframe tbody tr th {\n",
              "        vertical-align: top;\n",
              "    }\n",
              "\n",
              "    .dataframe thead th {\n",
              "        text-align: right;\n",
              "    }\n",
              "</style>\n",
              "<table border=\"1\" class=\"dataframe\">\n",
              "  <thead>\n",
              "    <tr style=\"text-align: right;\">\n",
              "      <th></th>\n",
              "      <th>Ranges</th>\n",
              "      <th>Families estimate (%)_2019</th>\n",
              "      <th>Families estimate (%)_2015</th>\n",
              "      <th>Families estimate (%)_2016</th>\n",
              "      <th>Families estimate (%)_2017</th>\n",
              "      <th>Families estimate (%)_2018</th>\n",
              "    </tr>\n",
              "  </thead>\n",
              "  <tbody>\n",
              "    <tr>\n",
              "      <th>0</th>\n",
              "      <td>-10000</td>\n",
              "      <td>NaN</td>\n",
              "      <td>4.3</td>\n",
              "      <td>4.0</td>\n",
              "      <td>NaN</td>\n",
              "      <td>NaN</td>\n",
              "    </tr>\n",
              "    <tr>\n",
              "      <th>1</th>\n",
              "      <td>10000-14999</td>\n",
              "      <td>2.1</td>\n",
              "      <td>2.9</td>\n",
              "      <td>2.7</td>\n",
              "      <td>2.5</td>\n",
              "      <td>2.3</td>\n",
              "    </tr>\n",
              "    <tr>\n",
              "      <th>2</th>\n",
              "      <td>100000-149999</td>\n",
              "      <td>19.1</td>\n",
              "      <td>16.8</td>\n",
              "      <td>17.3</td>\n",
              "      <td>17.9</td>\n",
              "      <td>18.3</td>\n",
              "    </tr>\n",
              "    <tr>\n",
              "      <th>3</th>\n",
              "      <td>15000-24999</td>\n",
              "      <td>5.6</td>\n",
              "      <td>7.5</td>\n",
              "      <td>7.1</td>\n",
              "      <td>6.6</td>\n",
              "      <td>6.3</td>\n",
              "    </tr>\n",
              "    <tr>\n",
              "      <th>4</th>\n",
              "      <td>150000-199999</td>\n",
              "      <td>9.2</td>\n",
              "      <td>7.1</td>\n",
              "      <td>7.5</td>\n",
              "      <td>8.0</td>\n",
              "      <td>8.5</td>\n",
              "    </tr>\n",
              "    <tr>\n",
              "      <th>5</th>\n",
              "      <td>200000-</td>\n",
              "      <td>11.1</td>\n",
              "      <td>7.5</td>\n",
              "      <td>8.3</td>\n",
              "      <td>9.0</td>\n",
              "      <td>9.9</td>\n",
              "    </tr>\n",
              "    <tr>\n",
              "      <th>6</th>\n",
              "      <td>25000-34999</td>\n",
              "      <td>6.9</td>\n",
              "      <td>8.5</td>\n",
              "      <td>8.1</td>\n",
              "      <td>7.8</td>\n",
              "      <td>7.5</td>\n",
              "    </tr>\n",
              "    <tr>\n",
              "      <th>7</th>\n",
              "      <td>35000-49999</td>\n",
              "      <td>10.8</td>\n",
              "      <td>12.6</td>\n",
              "      <td>12.2</td>\n",
              "      <td>11.9</td>\n",
              "      <td>11.5</td>\n",
              "    </tr>\n",
              "    <tr>\n",
              "      <th>8</th>\n",
              "      <td>50000-74999</td>\n",
              "      <td>17.4</td>\n",
              "      <td>18.6</td>\n",
              "      <td>18.4</td>\n",
              "      <td>18.1</td>\n",
              "      <td>17.8</td>\n",
              "    </tr>\n",
              "    <tr>\n",
              "      <th>9</th>\n",
              "      <td>75000-99999</td>\n",
              "      <td>14.4</td>\n",
              "      <td>14.2</td>\n",
              "      <td>14.2</td>\n",
              "      <td>14.3</td>\n",
              "      <td>14.3</td>\n",
              "    </tr>\n",
              "  </tbody>\n",
              "</table>\n",
              "</div>"
            ],
            "text/plain": [
              "          Ranges  ...  Families estimate (%)_2018\n",
              "0         -10000  ...                         NaN\n",
              "1    10000-14999  ...                         2.3\n",
              "2  100000-149999  ...                        18.3\n",
              "3    15000-24999  ...                         6.3\n",
              "4  150000-199999  ...                         8.5\n",
              "5        200000-  ...                         9.9\n",
              "6    25000-34999  ...                         7.5\n",
              "7    35000-49999  ...                        11.5\n",
              "8    50000-74999  ...                        17.8\n",
              "9    75000-99999  ...                        14.3\n",
              "\n",
              "[10 rows x 6 columns]"
            ]
          },
          "metadata": {
            "tags": []
          },
          "execution_count": 11
        }
      ]
    },
    {
      "cell_type": "markdown",
      "metadata": {
        "id": "xGHiICfC5g0C"
      },
      "source": [
        "# Data visualization"
      ]
    },
    {
      "cell_type": "code",
      "metadata": {
        "id": "VomZjLnQ2pd3"
      },
      "source": [
        "# create a bar chart of family income distribution change\n",
        "\n",
        "bar_15_fincome = px.bar(df_pivot_fincome,x = \"Ranges\",y = \"Families estimate (%)_2015\",title = \"Family income distribution in 2015\")"
      ],
      "execution_count": 12,
      "outputs": []
    },
    {
      "cell_type": "code",
      "metadata": {
        "colab": {
          "base_uri": "https://localhost:8080/",
          "height": 542
        },
        "id": "xrmWmlUr6P6n",
        "outputId": "119e977c-9aea-4b06-931f-2f652ca7562c"
      },
      "source": [
        "bar_15_fincome"
      ],
      "execution_count": 13,
      "outputs": [
        {
          "output_type": "display_data",
          "data": {
            "text/html": [
              "<html>\n",
              "<head><meta charset=\"utf-8\" /></head>\n",
              "<body>\n",
              "    <div>\n",
              "            <script src=\"https://cdnjs.cloudflare.com/ajax/libs/mathjax/2.7.5/MathJax.js?config=TeX-AMS-MML_SVG\"></script><script type=\"text/javascript\">if (window.MathJax) {MathJax.Hub.Config({SVG: {font: \"STIX-Web\"}});}</script>\n",
              "                <script type=\"text/javascript\">window.PlotlyConfig = {MathJaxConfig: 'local'};</script>\n",
              "        <script src=\"https://cdn.plot.ly/plotly-latest.min.js\"></script>    \n",
              "            <div id=\"9fd55828-8e11-4799-ae49-087981cbf344\" class=\"plotly-graph-div\" style=\"height:525px; width:100%;\"></div>\n",
              "            <script type=\"text/javascript\">\n",
              "                \n",
              "                    window.PLOTLYENV=window.PLOTLYENV || {};\n",
              "                    \n",
              "                if (document.getElementById(\"9fd55828-8e11-4799-ae49-087981cbf344\")) {\n",
              "                    Plotly.newPlot(\n",
              "                        '9fd55828-8e11-4799-ae49-087981cbf344',\n",
              "                        [{\"alignmentgroup\": \"True\", \"hoverlabel\": {\"namelength\": 0}, \"hovertemplate\": \"Ranges=%{x}<br>Families estimate (%)_2015=%{y}\", \"legendgroup\": \"\", \"marker\": {\"color\": \"#636efa\"}, \"name\": \"\", \"offsetgroup\": \"\", \"orientation\": \"v\", \"showlegend\": false, \"textposition\": \"auto\", \"type\": \"bar\", \"x\": [\"-10000\", \"10000-14999\", \"100000-149999\", \"15000-24999\", \"150000-199999\", \"200000-\", \"25000-34999\", \"35000-49999\", \"50000-74999\", \"75000-99999\"], \"xaxis\": \"x\", \"y\": [4.3, 2.9, 16.8, 7.5, 7.1, 7.5, 8.5, 12.6, 18.6, 14.2], \"yaxis\": \"y\"}],\n",
              "                        {\"barmode\": \"relative\", \"legend\": {\"tracegroupgap\": 0}, \"template\": {\"data\": {\"bar\": [{\"error_x\": {\"color\": \"#2a3f5f\"}, \"error_y\": {\"color\": \"#2a3f5f\"}, \"marker\": {\"line\": {\"color\": \"#E5ECF6\", \"width\": 0.5}}, \"type\": \"bar\"}], \"barpolar\": [{\"marker\": {\"line\": {\"color\": \"#E5ECF6\", \"width\": 0.5}}, \"type\": \"barpolar\"}], \"carpet\": [{\"aaxis\": {\"endlinecolor\": \"#2a3f5f\", \"gridcolor\": \"white\", \"linecolor\": \"white\", \"minorgridcolor\": \"white\", \"startlinecolor\": \"#2a3f5f\"}, \"baxis\": {\"endlinecolor\": \"#2a3f5f\", \"gridcolor\": \"white\", \"linecolor\": \"white\", \"minorgridcolor\": \"white\", \"startlinecolor\": \"#2a3f5f\"}, \"type\": \"carpet\"}], \"choropleth\": [{\"colorbar\": {\"outlinewidth\": 0, \"ticks\": \"\"}, \"type\": \"choropleth\"}], \"contour\": [{\"colorbar\": {\"outlinewidth\": 0, \"ticks\": \"\"}, \"colorscale\": [[0.0, \"#0d0887\"], [0.1111111111111111, \"#46039f\"], [0.2222222222222222, \"#7201a8\"], [0.3333333333333333, \"#9c179e\"], [0.4444444444444444, \"#bd3786\"], [0.5555555555555556, \"#d8576b\"], [0.6666666666666666, \"#ed7953\"], [0.7777777777777778, \"#fb9f3a\"], [0.8888888888888888, \"#fdca26\"], [1.0, \"#f0f921\"]], \"type\": \"contour\"}], \"contourcarpet\": [{\"colorbar\": {\"outlinewidth\": 0, \"ticks\": \"\"}, \"type\": \"contourcarpet\"}], \"heatmap\": [{\"colorbar\": {\"outlinewidth\": 0, \"ticks\": \"\"}, \"colorscale\": [[0.0, \"#0d0887\"], [0.1111111111111111, \"#46039f\"], [0.2222222222222222, \"#7201a8\"], [0.3333333333333333, \"#9c179e\"], [0.4444444444444444, \"#bd3786\"], [0.5555555555555556, \"#d8576b\"], [0.6666666666666666, \"#ed7953\"], [0.7777777777777778, \"#fb9f3a\"], [0.8888888888888888, \"#fdca26\"], [1.0, \"#f0f921\"]], \"type\": \"heatmap\"}], \"heatmapgl\": [{\"colorbar\": {\"outlinewidth\": 0, \"ticks\": \"\"}, \"colorscale\": [[0.0, \"#0d0887\"], [0.1111111111111111, \"#46039f\"], [0.2222222222222222, \"#7201a8\"], [0.3333333333333333, \"#9c179e\"], [0.4444444444444444, \"#bd3786\"], [0.5555555555555556, \"#d8576b\"], [0.6666666666666666, \"#ed7953\"], [0.7777777777777778, \"#fb9f3a\"], [0.8888888888888888, \"#fdca26\"], [1.0, \"#f0f921\"]], \"type\": \"heatmapgl\"}], \"histogram\": [{\"marker\": {\"colorbar\": {\"outlinewidth\": 0, \"ticks\": \"\"}}, \"type\": \"histogram\"}], \"histogram2d\": [{\"colorbar\": {\"outlinewidth\": 0, \"ticks\": \"\"}, \"colorscale\": [[0.0, \"#0d0887\"], [0.1111111111111111, \"#46039f\"], [0.2222222222222222, \"#7201a8\"], [0.3333333333333333, \"#9c179e\"], [0.4444444444444444, \"#bd3786\"], [0.5555555555555556, \"#d8576b\"], [0.6666666666666666, \"#ed7953\"], [0.7777777777777778, \"#fb9f3a\"], [0.8888888888888888, \"#fdca26\"], [1.0, \"#f0f921\"]], \"type\": \"histogram2d\"}], \"histogram2dcontour\": [{\"colorbar\": {\"outlinewidth\": 0, \"ticks\": \"\"}, \"colorscale\": [[0.0, \"#0d0887\"], [0.1111111111111111, \"#46039f\"], [0.2222222222222222, \"#7201a8\"], [0.3333333333333333, \"#9c179e\"], [0.4444444444444444, \"#bd3786\"], [0.5555555555555556, \"#d8576b\"], [0.6666666666666666, \"#ed7953\"], [0.7777777777777778, \"#fb9f3a\"], [0.8888888888888888, \"#fdca26\"], [1.0, \"#f0f921\"]], \"type\": \"histogram2dcontour\"}], \"mesh3d\": [{\"colorbar\": {\"outlinewidth\": 0, \"ticks\": \"\"}, \"type\": \"mesh3d\"}], \"parcoords\": [{\"line\": {\"colorbar\": {\"outlinewidth\": 0, \"ticks\": \"\"}}, \"type\": \"parcoords\"}], \"pie\": [{\"automargin\": true, \"type\": \"pie\"}], \"scatter\": [{\"marker\": {\"colorbar\": {\"outlinewidth\": 0, \"ticks\": \"\"}}, \"type\": \"scatter\"}], \"scatter3d\": [{\"line\": {\"colorbar\": {\"outlinewidth\": 0, \"ticks\": \"\"}}, \"marker\": {\"colorbar\": {\"outlinewidth\": 0, \"ticks\": \"\"}}, \"type\": \"scatter3d\"}], \"scattercarpet\": [{\"marker\": {\"colorbar\": {\"outlinewidth\": 0, \"ticks\": \"\"}}, \"type\": \"scattercarpet\"}], \"scattergeo\": [{\"marker\": {\"colorbar\": {\"outlinewidth\": 0, \"ticks\": \"\"}}, \"type\": \"scattergeo\"}], \"scattergl\": [{\"marker\": {\"colorbar\": {\"outlinewidth\": 0, \"ticks\": \"\"}}, \"type\": \"scattergl\"}], \"scattermapbox\": [{\"marker\": {\"colorbar\": {\"outlinewidth\": 0, \"ticks\": \"\"}}, \"type\": \"scattermapbox\"}], \"scatterpolar\": [{\"marker\": {\"colorbar\": {\"outlinewidth\": 0, \"ticks\": \"\"}}, \"type\": \"scatterpolar\"}], \"scatterpolargl\": [{\"marker\": {\"colorbar\": {\"outlinewidth\": 0, \"ticks\": \"\"}}, \"type\": \"scatterpolargl\"}], \"scatterternary\": [{\"marker\": {\"colorbar\": {\"outlinewidth\": 0, \"ticks\": \"\"}}, \"type\": \"scatterternary\"}], \"surface\": [{\"colorbar\": {\"outlinewidth\": 0, \"ticks\": \"\"}, \"colorscale\": [[0.0, \"#0d0887\"], [0.1111111111111111, \"#46039f\"], [0.2222222222222222, \"#7201a8\"], [0.3333333333333333, \"#9c179e\"], [0.4444444444444444, \"#bd3786\"], [0.5555555555555556, \"#d8576b\"], [0.6666666666666666, \"#ed7953\"], [0.7777777777777778, \"#fb9f3a\"], [0.8888888888888888, \"#fdca26\"], [1.0, \"#f0f921\"]], \"type\": \"surface\"}], \"table\": [{\"cells\": {\"fill\": {\"color\": \"#EBF0F8\"}, \"line\": {\"color\": \"white\"}}, \"header\": {\"fill\": {\"color\": \"#C8D4E3\"}, \"line\": {\"color\": \"white\"}}, \"type\": \"table\"}]}, \"layout\": {\"annotationdefaults\": {\"arrowcolor\": \"#2a3f5f\", \"arrowhead\": 0, \"arrowwidth\": 1}, \"coloraxis\": {\"colorbar\": {\"outlinewidth\": 0, \"ticks\": \"\"}}, \"colorscale\": {\"diverging\": [[0, \"#8e0152\"], [0.1, \"#c51b7d\"], [0.2, \"#de77ae\"], [0.3, \"#f1b6da\"], [0.4, \"#fde0ef\"], [0.5, \"#f7f7f7\"], [0.6, \"#e6f5d0\"], [0.7, \"#b8e186\"], [0.8, \"#7fbc41\"], [0.9, \"#4d9221\"], [1, \"#276419\"]], \"sequential\": [[0.0, \"#0d0887\"], [0.1111111111111111, \"#46039f\"], [0.2222222222222222, \"#7201a8\"], [0.3333333333333333, \"#9c179e\"], [0.4444444444444444, \"#bd3786\"], [0.5555555555555556, \"#d8576b\"], [0.6666666666666666, \"#ed7953\"], [0.7777777777777778, \"#fb9f3a\"], [0.8888888888888888, \"#fdca26\"], [1.0, \"#f0f921\"]], \"sequentialminus\": [[0.0, \"#0d0887\"], [0.1111111111111111, \"#46039f\"], [0.2222222222222222, \"#7201a8\"], [0.3333333333333333, \"#9c179e\"], [0.4444444444444444, \"#bd3786\"], [0.5555555555555556, \"#d8576b\"], [0.6666666666666666, \"#ed7953\"], [0.7777777777777778, \"#fb9f3a\"], [0.8888888888888888, \"#fdca26\"], [1.0, \"#f0f921\"]]}, \"colorway\": [\"#636efa\", \"#EF553B\", \"#00cc96\", \"#ab63fa\", \"#FFA15A\", \"#19d3f3\", \"#FF6692\", \"#B6E880\", \"#FF97FF\", \"#FECB52\"], \"font\": {\"color\": \"#2a3f5f\"}, \"geo\": {\"bgcolor\": \"white\", \"lakecolor\": \"white\", \"landcolor\": \"#E5ECF6\", \"showlakes\": true, \"showland\": true, \"subunitcolor\": \"white\"}, \"hoverlabel\": {\"align\": \"left\"}, \"hovermode\": \"closest\", \"mapbox\": {\"style\": \"light\"}, \"paper_bgcolor\": \"white\", \"plot_bgcolor\": \"#E5ECF6\", \"polar\": {\"angularaxis\": {\"gridcolor\": \"white\", \"linecolor\": \"white\", \"ticks\": \"\"}, \"bgcolor\": \"#E5ECF6\", \"radialaxis\": {\"gridcolor\": \"white\", \"linecolor\": \"white\", \"ticks\": \"\"}}, \"scene\": {\"xaxis\": {\"backgroundcolor\": \"#E5ECF6\", \"gridcolor\": \"white\", \"gridwidth\": 2, \"linecolor\": \"white\", \"showbackground\": true, \"ticks\": \"\", \"zerolinecolor\": \"white\"}, \"yaxis\": {\"backgroundcolor\": \"#E5ECF6\", \"gridcolor\": \"white\", \"gridwidth\": 2, \"linecolor\": \"white\", \"showbackground\": true, \"ticks\": \"\", \"zerolinecolor\": \"white\"}, \"zaxis\": {\"backgroundcolor\": \"#E5ECF6\", \"gridcolor\": \"white\", \"gridwidth\": 2, \"linecolor\": \"white\", \"showbackground\": true, \"ticks\": \"\", \"zerolinecolor\": \"white\"}}, \"shapedefaults\": {\"line\": {\"color\": \"#2a3f5f\"}}, \"ternary\": {\"aaxis\": {\"gridcolor\": \"white\", \"linecolor\": \"white\", \"ticks\": \"\"}, \"baxis\": {\"gridcolor\": \"white\", \"linecolor\": \"white\", \"ticks\": \"\"}, \"bgcolor\": \"#E5ECF6\", \"caxis\": {\"gridcolor\": \"white\", \"linecolor\": \"white\", \"ticks\": \"\"}}, \"title\": {\"x\": 0.05}, \"xaxis\": {\"automargin\": true, \"gridcolor\": \"white\", \"linecolor\": \"white\", \"ticks\": \"\", \"title\": {\"standoff\": 15}, \"zerolinecolor\": \"white\", \"zerolinewidth\": 2}, \"yaxis\": {\"automargin\": true, \"gridcolor\": \"white\", \"linecolor\": \"white\", \"ticks\": \"\", \"title\": {\"standoff\": 15}, \"zerolinecolor\": \"white\", \"zerolinewidth\": 2}}}, \"title\": {\"text\": \"Family income distribution in 2015\"}, \"xaxis\": {\"anchor\": \"y\", \"domain\": [0.0, 1.0], \"title\": {\"text\": \"Ranges\"}}, \"yaxis\": {\"anchor\": \"x\", \"domain\": [0.0, 1.0], \"title\": {\"text\": \"Families estimate (%)_2015\"}}},\n",
              "                        {\"responsive\": true}\n",
              "                    ).then(function(){\n",
              "                            \n",
              "var gd = document.getElementById('9fd55828-8e11-4799-ae49-087981cbf344');\n",
              "var x = new MutationObserver(function (mutations, observer) {{\n",
              "        var display = window.getComputedStyle(gd).display;\n",
              "        if (!display || display === 'none') {{\n",
              "            console.log([gd, 'removed!']);\n",
              "            Plotly.purge(gd);\n",
              "            observer.disconnect();\n",
              "        }}\n",
              "}});\n",
              "\n",
              "// Listen for the removal of the full notebook cells\n",
              "var notebookContainer = gd.closest('#notebook-container');\n",
              "if (notebookContainer) {{\n",
              "    x.observe(notebookContainer, {childList: true});\n",
              "}}\n",
              "\n",
              "// Listen for the clearing of the current output cell\n",
              "var outputEl = gd.closest('.output');\n",
              "if (outputEl) {{\n",
              "    x.observe(outputEl, {childList: true});\n",
              "}}\n",
              "\n",
              "                        })\n",
              "                };\n",
              "                \n",
              "            </script>\n",
              "        </div>\n",
              "</body>\n",
              "</html>"
            ]
          },
          "metadata": {
            "tags": []
          }
        }
      ]
    },
    {
      "cell_type": "code",
      "metadata": {
        "id": "BNTMGjjl6UW9"
      },
      "source": [
        ""
      ],
      "execution_count": null,
      "outputs": []
    }
  ]
}